{
  "nbformat": 4,
  "nbformat_minor": 0,
  "metadata": {
    "colab": {
      "provenance": []
    },
    "kernelspec": {
      "name": "python3",
      "display_name": "Python 3"
    },
    "language_info": {
      "name": "python"
    }
  },
  "cells": [
    {
      "cell_type": "code",
      "execution_count": 1,
      "metadata": {
        "colab": {
          "base_uri": "https://localhost:8080/"
        },
        "id": "gQ4GXtPRttz3",
        "outputId": "76f386fe-7cf4-4361-e055-7e9d0bc829ea"
      },
      "outputs": [
        {
          "output_type": "stream",
          "name": "stdout",
          "text": [
            "Looking in indexes: https://pypi.org/simple, https://us-python.pkg.dev/colab-wheels/public/simple/\n",
            "Collecting pyspark\n",
            "  Downloading pyspark-3.3.1.tar.gz (281.4 MB)\n",
            "\u001b[K     |████████████████████████████████| 281.4 MB 41 kB/s \n",
            "\u001b[?25hCollecting py4j==0.10.9.5\n",
            "  Downloading py4j-0.10.9.5-py2.py3-none-any.whl (199 kB)\n",
            "\u001b[K     |████████████████████████████████| 199 kB 65.1 MB/s \n",
            "\u001b[?25hBuilding wheels for collected packages: pyspark\n",
            "  Building wheel for pyspark (setup.py) ... \u001b[?25l\u001b[?25hdone\n",
            "  Created wheel for pyspark: filename=pyspark-3.3.1-py2.py3-none-any.whl size=281845512 sha256=e160d2b49843d522fcbc386a4e65200500776760af57a5ed7e2443a771ee2051\n",
            "  Stored in directory: /root/.cache/pip/wheels/43/dc/11/ec201cd671da62fa9c5cc77078235e40722170ceba231d7598\n",
            "Successfully built pyspark\n",
            "Installing collected packages: py4j, pyspark\n",
            "Successfully installed py4j-0.10.9.5 pyspark-3.3.1\n"
          ]
        }
      ],
      "source": [
        "!pip install pyspark"
      ]
    },
    {
      "cell_type": "code",
      "execution_count": 2,
      "metadata": {
        "colab": {
          "base_uri": "https://localhost:8080/"
        },
        "id": "_xKwTpATHqSe",
        "outputId": "46955be6-354c-43c0-bf43-1ef29bbe9bc4"
      },
      "outputs": [
        {
          "output_type": "stream",
          "name": "stdout",
          "text": [
            "--2022-12-16 14:45:02--  https://jdbc.postgresql.org/download/postgresql-42.2.16.jar\n",
            "Resolving jdbc.postgresql.org (jdbc.postgresql.org)... 72.32.157.228, 2001:4800:3e1:1::228\n",
            "Connecting to jdbc.postgresql.org (jdbc.postgresql.org)|72.32.157.228|:443... connected.\n",
            "HTTP request sent, awaiting response... 200 OK\n",
            "Length: 1002883 (979K) [application/java-archive]\n",
            "Saving to: ‘postgresql-42.2.16.jar’\n",
            "\n",
            "postgresql-42.2.16. 100%[===================>] 979.38K  1.18MB/s    in 0.8s    \n",
            "\n",
            "2022-12-16 14:45:04 (1.18 MB/s) - ‘postgresql-42.2.16.jar’ saved [1002883/1002883]\n",
            "\n"
          ]
        }
      ],
      "source": [
        "# Download the Postgres driver that will allow Spark to interact with Postgres.\n",
        "!wget https://jdbc.postgresql.org/download/postgresql-42.2.16.jar"
      ]
    },
    {
      "cell_type": "code",
      "execution_count": 3,
      "metadata": {
        "id": "MMqDAjVS0KN9"
      },
      "outputs": [],
      "source": [
        "from pyspark.sql import SparkSession\n",
        "spark = SparkSession.builder.appName(\"M17-Amazon-Challenge\").config(\"spark.driver.extraClassPath\",\"/content/postgresql-42.2.16.jar\").getOrCreate()"
      ]
    },
    {
      "cell_type": "code",
      "execution_count": 5,
      "metadata": {
        "id": "CtCmBhQJY-9Z",
        "colab": {
          "base_uri": "https://localhost:8080/"
        },
        "outputId": "5ba23021-9758-4cfe-844e-d41d72d15cdc"
      },
      "outputs": [
        {
          "output_type": "stream",
          "name": "stdout",
          "text": [
            "+-----------+-----------+--------------+----------+--------------+--------------------+----------------+-----------+-------------+-----------+----+-----------------+--------------------+--------------------+-------------------+\n",
            "|marketplace|customer_id|     review_id|product_id|product_parent|       product_title|product_category|star_rating|helpful_votes|total_votes|vine|verified_purchase|     review_headline|         review_body|        review_date|\n",
            "+-----------+-----------+--------------+----------+--------------+--------------------+----------------+-----------+-------------+-----------+----+-----------------+--------------------+--------------------+-------------------+\n",
            "|         US|   41409413|R2MTG1GCZLR2DK|B00428R89M|     112201306|yoomall 5M Antenn...|     Electronics|          5|            0|          0|   N|                Y|          Five Stars|       As described.|2015-08-31 00:00:00|\n",
            "|         US|   49668221|R2HBOEM8LE9928|B000068O48|     734576678|Hosa GPM-103 3.5m...|     Electronics|          5|            0|          0|   N|                Y|It works as adver...|It works as adver...|2015-08-31 00:00:00|\n",
            "|         US|   12338275|R1P4RW1R9FDPEE|B000GGKOG8|     614448099|Channel Master Ti...|     Electronics|          5|            1|          1|   N|                Y|          Five Stars|         Works pissa|2015-08-31 00:00:00|\n",
            "|         US|   38487968|R1EBPM82ENI67M|B000NU4OTA|      72265257|LIMTECH Wall char...|     Electronics|          1|            0|          0|   N|                Y|            One Star|Did not work at all.|2015-08-31 00:00:00|\n",
            "|         US|   23732619|R372S58V6D11AT|B00JOQIO6S|     308169188|Skullcandy Air Ra...|     Electronics|          5|            1|          1|   N|                Y|Overall pleased w...|Works well. Bass ...|2015-08-31 00:00:00|\n",
            "|         US|   21257820|R1A4514XOYI1PD|B008NCD2LG|     976385982|Pioneer SP-BS22-L...|     Electronics|          5|            1|          1|   N|                Y|          Five Stars|The quality on th...|2015-08-31 00:00:00|\n",
            "|         US|    3084991|R20D9EHB7N20V6|B00007FGUF|     670878953|C2G/Cables to Go ...|     Electronics|          5|            0|          0|   N|                Y|           Lifesaver|Wish I could give...|2015-08-31 00:00:00|\n",
            "|         US|    8153674|R1WUTD8MVSROJU|B00M9V2RMM|     508452933|COOLEAD-HDMI Swit...|     Electronics|          5|            0|          0|   N|                Y|          Five Stars|         works great|2015-08-31 00:00:00|\n",
            "|         US|   52246189|R1QCYLT25812DM|B00J3O9DYI|     766372886|Philips Wireless ...|     Electronics|          4|            0|          0|   N|                Y|          Four Stars|Great sound and c...|2015-08-31 00:00:00|\n",
            "|         US|   41463864| R904DQPBCEM7A|B00NS1A0E4|     458130381|PlayStation 3 3D ...|     Electronics|          4|            0|          0|   N|                Y|          Four Stars|    It works well~~~|2015-08-31 00:00:00|\n",
            "|         US|    2781942|R1DGA6UQIVLKZ7|B007B5V092|     152891509|JVC HAFR201A Xtre...|     Electronics|          5|            0|          0|   N|                Y|          Five Stars|           Alll good|2015-08-31 00:00:00|\n",
            "|         US|     707292| RLQT3V8SMNIBH|B00IODHGVG|     717335277|Sylvania Alarm Cl...|     Electronics|          5|            0|          0|   N|                Y|          Five Stars|Love clock radio ...|2015-08-31 00:00:00|\n",
            "|         US|   31463514|R3T9GZS2TMXZGM|B0035PBHX6|     249533961|Coby 8 GB 1.8-Inc...|     Electronics|          1|            0|          0|   N|                Y|            One Star|Breaks very easil...|2015-08-31 00:00:00|\n",
            "|         US|   33475055|R24HVAEYP5PLDN|B00K1JJWFO|     635791633|Diamond (Original...|     Electronics|          5|            0|          1|   N|                Y|          Five Stars|Excellent gain in...|2015-08-31 00:00:00|\n",
            "|         US|   16543871|R32KMAPNV5NJPJ|B00S3LJ5EA|     659360184|Kingvom 8gb 50 Ho...|     Electronics|          5|            0|          0|   N|                Y|          Five Stars|everything I expe...|2015-08-31 00:00:00|\n",
            "|         US|   38472651| RC7VLPHUT6UAF|B00B5QNGN6|     564421014|JBL Ultra-Portabl...|     Electronics|          5|            0|          0|   N|                Y|          Five Stars|Love this small s...|2015-08-31 00:00:00|\n",
            "|         US|   26946211|R3G1II8P4KGUAR|B00PLE8QF6|     685446417|YIPBOWPT Surface ...|     Electronics|          5|            0|          0|   N|                Y|       great product|works as advertis...|2015-08-31 00:00:00|\n",
            "|         US|   10195727|R1UBFCBUALL6S5|B00GHUSIU6|     595255086|StarTech.com Mini...|     Electronics|          5|            0|          0|   N|                Y|          Five Stars|very good especia...|2015-08-31 00:00:00|\n",
            "|         US|   47386264|R1WI5NISM6GAUG|B0045EJY90|     892920832|TEAC CD-P650-B Co...|     Electronics|          2|            4|          5|   N|                Y|It does not copy ...|It does not copy ...|2015-08-31 00:00:00|\n",
            "|         US|   13000908|R27F4OF4BIA4LU|B003BT6BM8|     631236454|Philips SHS8100/2...|     Electronics|          2|            1|          1|   N|                Y|Did not last long...|Did not last long...|2015-08-31 00:00:00|\n",
            "+-----------+-----------+--------------+----------+--------------+--------------------+----------------+-----------+-------------+-----------+----+-----------------+--------------------+--------------------+-------------------+\n",
            "only showing top 20 rows\n",
            "\n"
          ]
        }
      ],
      "source": [
        "from pyspark import SparkFiles\n",
        "url = \"https://s3.amazonaws.com/amazon-reviews-pds/tsv/amazon_reviews_us_Electronics_v1_00.tsv.gz\"\n",
        "spark.sparkContext.addFile(url)\n",
        "df = spark.read.option(\"encoding\", \"UTF-8\").csv(SparkFiles.get(\"\"), sep=\"\\t\", header=True, inferSchema=True)\n",
        "df.show()"
      ]
    },
    {
      "cell_type": "code",
      "execution_count": 6,
      "metadata": {
        "id": "lzMmkdKmY--D",
        "colab": {
          "base_uri": "https://localhost:8080/"
        },
        "outputId": "b8a00930-be2d-4f31-dee7-2138f0fd878a"
      },
      "outputs": [
        {
          "output_type": "stream",
          "name": "stdout",
          "text": [
            "+--------------+-----------+-------------+-----------+----+-----------------+\n",
            "|     review_id|star_rating|helpful_votes|total_votes|vine|verified_purchase|\n",
            "+--------------+-----------+-------------+-----------+----+-----------------+\n",
            "|R2MTG1GCZLR2DK|          5|            0|          0|   N|                Y|\n",
            "|R2HBOEM8LE9928|          5|            0|          0|   N|                Y|\n",
            "|R1P4RW1R9FDPEE|          5|            1|          1|   N|                Y|\n",
            "|R1EBPM82ENI67M|          1|            0|          0|   N|                Y|\n",
            "|R372S58V6D11AT|          5|            1|          1|   N|                Y|\n",
            "|R1A4514XOYI1PD|          5|            1|          1|   N|                Y|\n",
            "|R20D9EHB7N20V6|          5|            0|          0|   N|                Y|\n",
            "|R1WUTD8MVSROJU|          5|            0|          0|   N|                Y|\n",
            "|R1QCYLT25812DM|          4|            0|          0|   N|                Y|\n",
            "| R904DQPBCEM7A|          4|            0|          0|   N|                Y|\n",
            "|R1DGA6UQIVLKZ7|          5|            0|          0|   N|                Y|\n",
            "| RLQT3V8SMNIBH|          5|            0|          0|   N|                Y|\n",
            "|R3T9GZS2TMXZGM|          1|            0|          0|   N|                Y|\n",
            "|R24HVAEYP5PLDN|          5|            0|          1|   N|                Y|\n",
            "|R32KMAPNV5NJPJ|          5|            0|          0|   N|                Y|\n",
            "| RC7VLPHUT6UAF|          5|            0|          0|   N|                Y|\n",
            "|R3G1II8P4KGUAR|          5|            0|          0|   N|                Y|\n",
            "|R1UBFCBUALL6S5|          5|            0|          0|   N|                Y|\n",
            "|R1WI5NISM6GAUG|          2|            4|          5|   N|                Y|\n",
            "|R27F4OF4BIA4LU|          2|            1|          1|   N|                Y|\n",
            "+--------------+-----------+-------------+-----------+----+-----------------+\n",
            "only showing top 20 rows\n",
            "\n"
          ]
        }
      ],
      "source": [
        "# Create the vine_table. DataFrame\n",
        "vine_df = df.select([\"review_id\", \"star_rating\", \"helpful_votes\", \"total_votes\", \"vine\", \"verified_purchase\"])\n",
        "vine_df.show()"
      ]
    },
    {
      "cell_type": "code",
      "source": [
        "df_careful = vine_df.filter(vine_df.total_votes >= 20)\n",
        "df_careful.show()"
      ],
      "metadata": {
        "colab": {
          "base_uri": "https://localhost:8080/"
        },
        "id": "_DmVxVtauXa7",
        "outputId": "cdb55849-2909-48ef-9a18-a302fccb86ae"
      },
      "execution_count": 7,
      "outputs": [
        {
          "output_type": "stream",
          "name": "stdout",
          "text": [
            "+--------------+-----------+-------------+-----------+----+-----------------+\n",
            "|     review_id|star_rating|helpful_votes|total_votes|vine|verified_purchase|\n",
            "+--------------+-----------+-------------+-----------+----+-----------------+\n",
            "|R1FBO737KD9F2N|          5|           19|         23|   N|                Y|\n",
            "|R227GSNWI6BSZV|          1|           20|         20|   N|                Y|\n",
            "|R3SJTYZBYBG4EE|          4|           99|         99|   N|                Y|\n",
            "|R248FG65D76D5Y|          1|           42|         53|   N|                Y|\n",
            "|R3B6BXFKGW52SG|          1|           32|         32|   N|                Y|\n",
            "| ROTIV4VYL31R4|          5|           26|         26|   N|                Y|\n",
            "|R3VQ59LD2LSKY7|          5|           20|         25|   N|                Y|\n",
            "| RIIGLD8JB7PX8|          1|           32|         35|   N|                Y|\n",
            "|R3MUBV21QV0IJK|          3|           77|         84|   N|                Y|\n",
            "|R1V5W0X6BKIJYA|          5|          129|        132|   N|                Y|\n",
            "|R274AKHXHYGIN6|          5|           87|        100|   N|                N|\n",
            "|R184FOUNZZ7KO8|          5|           15|         20|   Y|                N|\n",
            "| RVSZIYT9NB29U|          5|           22|         46|   N|                Y|\n",
            "|R1RDAOSARQUVFJ|          2|            6|         26|   N|                N|\n",
            "| R88RERIQDYDT5|          2|           17|         26|   N|                N|\n",
            "| RLYK7DY9F6RUP|          4|           17|         20|   N|                Y|\n",
            "|R3T31I7IKQ5LFQ|          3|           52|         55|   N|                Y|\n",
            "| RZETLPHZJFYB8|          5|           23|         24|   N|                Y|\n",
            "|R1BG5NL9AX68QE|          1|           23|         29|   N|                Y|\n",
            "|R1Y05HDL2AWCSA|          5|          140|        145|   N|                Y|\n",
            "+--------------+-----------+-------------+-----------+----+-----------------+\n",
            "only showing top 20 rows\n",
            "\n"
          ]
        }
      ]
    },
    {
      "cell_type": "code",
      "source": [
        "df_careful2 = df_careful.filter((df_careful.helpful_votes / df_careful.total_votes) >= 0.5)\n",
        "df_careful2.show()"
      ],
      "metadata": {
        "colab": {
          "base_uri": "https://localhost:8080/"
        },
        "id": "uDdO6OPNxjuJ",
        "outputId": "b53e9bcb-cc2e-4f19-dff6-226b17b1aaeb"
      },
      "execution_count": 8,
      "outputs": [
        {
          "output_type": "stream",
          "name": "stdout",
          "text": [
            "+--------------+-----------+-------------+-----------+----+-----------------+\n",
            "|     review_id|star_rating|helpful_votes|total_votes|vine|verified_purchase|\n",
            "+--------------+-----------+-------------+-----------+----+-----------------+\n",
            "|R1FBO737KD9F2N|          5|           19|         23|   N|                Y|\n",
            "|R227GSNWI6BSZV|          1|           20|         20|   N|                Y|\n",
            "|R3SJTYZBYBG4EE|          4|           99|         99|   N|                Y|\n",
            "|R248FG65D76D5Y|          1|           42|         53|   N|                Y|\n",
            "|R3B6BXFKGW52SG|          1|           32|         32|   N|                Y|\n",
            "| ROTIV4VYL31R4|          5|           26|         26|   N|                Y|\n",
            "|R3VQ59LD2LSKY7|          5|           20|         25|   N|                Y|\n",
            "| RIIGLD8JB7PX8|          1|           32|         35|   N|                Y|\n",
            "|R3MUBV21QV0IJK|          3|           77|         84|   N|                Y|\n",
            "|R1V5W0X6BKIJYA|          5|          129|        132|   N|                Y|\n",
            "|R274AKHXHYGIN6|          5|           87|        100|   N|                N|\n",
            "|R184FOUNZZ7KO8|          5|           15|         20|   Y|                N|\n",
            "| R88RERIQDYDT5|          2|           17|         26|   N|                N|\n",
            "| RLYK7DY9F6RUP|          4|           17|         20|   N|                Y|\n",
            "|R3T31I7IKQ5LFQ|          3|           52|         55|   N|                Y|\n",
            "| RZETLPHZJFYB8|          5|           23|         24|   N|                Y|\n",
            "|R1BG5NL9AX68QE|          1|           23|         29|   N|                Y|\n",
            "|R1Y05HDL2AWCSA|          5|          140|        145|   N|                Y|\n",
            "|R20EPERDBI56K8|          1|           30|         37|   N|                Y|\n",
            "| RPTN47ZNQBPWE|          5|           20|         24|   N|                Y|\n",
            "+--------------+-----------+-------------+-----------+----+-----------------+\n",
            "only showing top 20 rows\n",
            "\n"
          ]
        }
      ]
    },
    {
      "cell_type": "code",
      "source": [
        "paidreviews_df = df_careful2.filter(df_careful2.vine == 'Y')\n",
        "paidreviews_df.show()"
      ],
      "metadata": {
        "colab": {
          "base_uri": "https://localhost:8080/"
        },
        "id": "BC1D1ysKyJf1",
        "outputId": "75f1cd71-7871-4ce4-cac6-a45c6aafae46"
      },
      "execution_count": null,
      "outputs": [
        {
          "output_type": "stream",
          "name": "stdout",
          "text": [
            "+--------------+-----------+-------------+-----------+----+-----------------+\n",
            "|     review_id|star_rating|helpful_votes|total_votes|vine|verified_purchase|\n",
            "+--------------+-----------+-------------+-----------+----+-----------------+\n",
            "|R184FOUNZZ7KO8|          5|           15|         20|   Y|                N|\n",
            "| R82QWN2X2OCHB|          5|          176|        208|   Y|                N|\n",
            "|R1UYHBYE6790BU|          5|           44|         53|   Y|                N|\n",
            "|R2J3YLX1L4EH2B|          5|          299|        321|   Y|                N|\n",
            "|R3QDI539WTXKE2|          5|           26|         32|   Y|                N|\n",
            "| RQTPWY6ND2NRV|          4|           37|         37|   Y|                N|\n",
            "| RQZSTE0KOBY2G|          4|           98|        109|   Y|                N|\n",
            "| RF2RNZEJO0K1N|          4|           23|         26|   Y|                N|\n",
            "| ROB6VOW41E8O5|          4|          155|        172|   Y|                N|\n",
            "|R3ASMXPEPYY28T|          3|           11|         20|   Y|                N|\n",
            "|R1PSDADBJRKB7N|          5|          215|        234|   Y|                N|\n",
            "|R379PSH3FBB6CG|          5|           22|         26|   Y|                N|\n",
            "| R4TBG0DR9Q3R2|          4|           27|         35|   Y|                N|\n",
            "|R3LFHK362GJ77T|          4|           31|         33|   Y|                N|\n",
            "|R1GB60TUTJB5HP|          5|           41|         45|   Y|                N|\n",
            "|R2471U9VXGOMON|          4|          197|        206|   Y|                N|\n",
            "|R24N1S9H53A8QR|          5|           64|         70|   Y|                N|\n",
            "|R2S4BSWNHNX2GG|          5|           54|         61|   Y|                N|\n",
            "|R36FG1XJKLAK36|          5|           23|         27|   Y|                N|\n",
            "|R2ENZ835SOCA46|          4|           26|         30|   Y|                N|\n",
            "+--------------+-----------+-------------+-----------+----+-----------------+\n",
            "only showing top 20 rows\n",
            "\n"
          ]
        }
      ]
    },
    {
      "cell_type": "code",
      "source": [
        "unpaidreviews_df = df_careful2.filter(df_careful2.vine == 'N')\n",
        "unpaidreviews_df.show()"
      ],
      "metadata": {
        "colab": {
          "base_uri": "https://localhost:8080/"
        },
        "id": "M_5Cw58MyuBU",
        "outputId": "7d0b14a0-ad76-43c8-ce75-dc5d3be91728"
      },
      "execution_count": null,
      "outputs": [
        {
          "output_type": "stream",
          "name": "stdout",
          "text": [
            "+--------------+-----------+-------------+-----------+----+-----------------+\n",
            "|     review_id|star_rating|helpful_votes|total_votes|vine|verified_purchase|\n",
            "+--------------+-----------+-------------+-----------+----+-----------------+\n",
            "|R1FBO737KD9F2N|          5|           19|         23|   N|                Y|\n",
            "|R227GSNWI6BSZV|          1|           20|         20|   N|                Y|\n",
            "|R3SJTYZBYBG4EE|          4|           99|         99|   N|                Y|\n",
            "|R248FG65D76D5Y|          1|           42|         53|   N|                Y|\n",
            "|R3B6BXFKGW52SG|          1|           32|         32|   N|                Y|\n",
            "| ROTIV4VYL31R4|          5|           26|         26|   N|                Y|\n",
            "|R3VQ59LD2LSKY7|          5|           20|         25|   N|                Y|\n",
            "| RIIGLD8JB7PX8|          1|           32|         35|   N|                Y|\n",
            "|R3MUBV21QV0IJK|          3|           77|         84|   N|                Y|\n",
            "|R1V5W0X6BKIJYA|          5|          129|        132|   N|                Y|\n",
            "|R274AKHXHYGIN6|          5|           87|        100|   N|                N|\n",
            "| R88RERIQDYDT5|          2|           17|         26|   N|                N|\n",
            "| RLYK7DY9F6RUP|          4|           17|         20|   N|                Y|\n",
            "|R3T31I7IKQ5LFQ|          3|           52|         55|   N|                Y|\n",
            "| RZETLPHZJFYB8|          5|           23|         24|   N|                Y|\n",
            "|R1BG5NL9AX68QE|          1|           23|         29|   N|                Y|\n",
            "|R1Y05HDL2AWCSA|          5|          140|        145|   N|                Y|\n",
            "|R20EPERDBI56K8|          1|           30|         37|   N|                Y|\n",
            "| RPTN47ZNQBPWE|          5|           20|         24|   N|                Y|\n",
            "|R3VJ8U3A8MT8II|          5|           17|         21|   N|                Y|\n",
            "+--------------+-----------+-------------+-----------+----+-----------------+\n",
            "only showing top 20 rows\n",
            "\n"
          ]
        }
      ]
    },
    {
      "cell_type": "code",
      "source": [
        "# total number of paid reviews\n",
        "tot_paidrev = paidreviews_df.count()\n",
        "tot_paidrev"
      ],
      "metadata": {
        "colab": {
          "base_uri": "https://localhost:8080/"
        },
        "id": "9ElAI0eXz1wo",
        "outputId": "f0d03118-af3a-4021-8fe3-c062470d0ced"
      },
      "execution_count": null,
      "outputs": [
        {
          "output_type": "execute_result",
          "data": {
            "text/plain": [
              "1080"
            ]
          },
          "metadata": {},
          "execution_count": 13
        }
      ]
    },
    {
      "cell_type": "code",
      "source": [
        "# paid 5-star reviews\n",
        "paid_fivestar_rev = paidreviews_df.filter(paidreviews_df.star_rating == 5).count()\n",
        "paid_fivestar_rev"
      ],
      "metadata": {
        "colab": {
          "base_uri": "https://localhost:8080/"
        },
        "id": "ksm0LmPd0C4Y",
        "outputId": "513c2268-b05d-462d-b22f-4ce12c57ead8"
      },
      "execution_count": null,
      "outputs": [
        {
          "output_type": "execute_result",
          "data": {
            "text/plain": [
              "454"
            ]
          },
          "metadata": {},
          "execution_count": 14
        }
      ]
    },
    {
      "cell_type": "code",
      "source": [
        "# paid 5-star reviews percentage\n",
        "paid_fivestar_percent = (paid_fivestar_rev / tot_paidrev) * 100\n",
        "paid_fivestar_percent"
      ],
      "metadata": {
        "colab": {
          "base_uri": "https://localhost:8080/"
        },
        "id": "oI8R0u910sJf",
        "outputId": "7f56a6ca-cca3-453d-d105-4cff6930606b"
      },
      "execution_count": null,
      "outputs": [
        {
          "output_type": "execute_result",
          "data": {
            "text/plain": [
              "42.03703703703704"
            ]
          },
          "metadata": {},
          "execution_count": 15
        }
      ]
    },
    {
      "cell_type": "code",
      "source": [
        "# total number of unpaid reviews\n",
        "tot_unpaidrev = unpaidreviews_df.count()\n",
        "tot_unpaidrev"
      ],
      "metadata": {
        "colab": {
          "base_uri": "https://localhost:8080/"
        },
        "id": "HT7zkprd09u0",
        "outputId": "54ecd4ef-15f7-411b-c6ef-28a5d54d17b4"
      },
      "execution_count": null,
      "outputs": [
        {
          "output_type": "execute_result",
          "data": {
            "text/plain": [
              "49673"
            ]
          },
          "metadata": {},
          "execution_count": 16
        }
      ]
    },
    {
      "cell_type": "code",
      "source": [
        "# unpaid 5-star reviews\n",
        "unpaid_fivestar_rev = unpaidreviews_df.filter(unpaidreviews_df.star_rating == 5).count()\n",
        "unpaid_fivestar_rev"
      ],
      "metadata": {
        "colab": {
          "base_uri": "https://localhost:8080/"
        },
        "id": "pv_C11_z1IXR",
        "outputId": "c35d6c34-05f4-470b-8483-e6a4906d139d"
      },
      "execution_count": null,
      "outputs": [
        {
          "output_type": "execute_result",
          "data": {
            "text/plain": [
              "23043"
            ]
          },
          "metadata": {},
          "execution_count": 17
        }
      ]
    },
    {
      "cell_type": "code",
      "source": [
        "# unpaid 5-star reviews percentage\n",
        "unpaid_fivestar_percent = (unpaid_fivestar_rev / tot_unpaidrev) * 100\n",
        "unpaid_fivestar_percent"
      ],
      "metadata": {
        "colab": {
          "base_uri": "https://localhost:8080/"
        },
        "id": "8iHL_EBj1hLI",
        "outputId": "46d28afa-a3ce-4798-a197-84dde482de7a"
      },
      "execution_count": null,
      "outputs": [
        {
          "output_type": "execute_result",
          "data": {
            "text/plain": [
              "46.3893865882874"
            ]
          },
          "metadata": {},
          "execution_count": 18
        }
      ]
    },
    {
      "cell_type": "code",
      "source": [
        "import pandas as pd\n",
        "\n",
        "vine_reviews_df = df_careful2.toPandas()\n",
        "\n",
        "from google.colab import drive\n",
        "drive.mount('drive')\n",
        "\n",
        "vine_reviews_df.to_csv('vine_reviews.csv')\n",
        "!cp vine_reviews.csv \"drive/My Drive/\"\n",
        "\n"
      ],
      "metadata": {
        "id": "ZV0r8cgMYyfG"
      },
      "execution_count": null,
      "outputs": []
    }
  ]
}